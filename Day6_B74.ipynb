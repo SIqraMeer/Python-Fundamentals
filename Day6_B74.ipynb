{
 "cells": [
  {
   "cell_type": "code",
   "execution_count": 1,
   "id": "92b38985",
   "metadata": {},
   "outputs": [],
   "source": [
    "students =['sunil', 'naveen', 'abdul', 'snehal', 'iqra', 'sadiya']"
   ]
  },
  {
   "cell_type": "code",
   "execution_count": 2,
   "id": "b8c58eb4",
   "metadata": {},
   "outputs": [
    {
     "name": "stdout",
     "output_type": "stream",
     "text": [
      "['sunil', 'naveen', 'abdul', 'snehal', 'iqra', 'sadiya']\n"
     ]
    }
   ],
   "source": [
    "print(students)"
   ]
  },
  {
   "cell_type": "code",
   "execution_count": 3,
   "id": "e15a7298",
   "metadata": {},
   "outputs": [
    {
     "data": {
      "text/plain": [
       "list"
      ]
     },
     "execution_count": 3,
     "metadata": {},
     "output_type": "execute_result"
    }
   ],
   "source": [
    "type(students)"
   ]
  },
  {
   "cell_type": "code",
   "execution_count": 5,
   "id": "c24c28b8",
   "metadata": {},
   "outputs": [
    {
     "name": "stdout",
     "output_type": "stream",
     "text": [
      " keep up the good work, Sunil\n"
     ]
    }
   ],
   "source": [
    "print(f\" keep up the good work, {students[0].title()}\")"
   ]
  },
  {
   "cell_type": "code",
   "execution_count": 6,
   "id": "c24d1d9a",
   "metadata": {},
   "outputs": [
    {
     "name": "stdout",
     "output_type": "stream",
     "text": [
      " keep up the good work, Naveen\n"
     ]
    }
   ],
   "source": [
    "print(f\" keep up the good work, {students[1].title()}\")"
   ]
  },
  {
   "cell_type": "code",
   "execution_count": 7,
   "id": "77cd21b7",
   "metadata": {},
   "outputs": [
    {
     "name": "stdout",
     "output_type": "stream",
     "text": [
      " keep up the good work, sunil\n",
      " keep up the good work, naveen\n",
      " keep up the good work, abdul\n",
      " keep up the good work, snehal\n",
      " keep up the good work, iqra\n",
      " keep up the good work, sadiya\n"
     ]
    }
   ],
   "source": [
    "for x in students:\n",
    "    print(f\" keep up the good work, {x}\")"
   ]
  },
  {
   "cell_type": "code",
   "execution_count": 8,
   "id": "97323cf5",
   "metadata": {},
   "outputs": [
    {
     "name": "stdout",
     "output_type": "stream",
     "text": [
      "sunil\n",
      "naveen\n",
      "abdul\n",
      "snehal\n",
      "iqra\n",
      "sadiya\n"
     ]
    }
   ],
   "source": [
    "for a in students:\n",
    "    print(a)"
   ]
  },
  {
   "cell_type": "code",
   "execution_count": 9,
   "id": "6baf5661",
   "metadata": {},
   "outputs": [
    {
     "name": "stdout",
     "output_type": "stream",
     "text": [
      " keep up the good work, Sunil\n",
      " keep up the good work, Naveen\n",
      " keep up the good work, Abdul\n",
      " keep up the good work, Snehal\n",
      " keep up the good work, Iqra\n",
      " keep up the good work, Sadiya\n"
     ]
    }
   ],
   "source": [
    "for x in students:\n",
    "    print(f\" keep up the good work, {x.title()}\")"
   ]
  },
  {
   "cell_type": "code",
   "execution_count": 11,
   "id": "3a6b5b67",
   "metadata": {},
   "outputs": [
    {
     "name": "stdout",
     "output_type": "stream",
     "text": [
      " keep up the good work, sunil\n",
      "i will be looking forward for today's submission, sunil\n",
      " keep up the good work, naveen\n",
      "i will be looking forward for today's submission, naveen\n",
      " keep up the good work, abdul\n",
      "i will be looking forward for today's submission, abdul\n",
      " keep up the good work, snehal\n",
      "i will be looking forward for today's submission, snehal\n",
      " keep up the good work, iqra\n",
      "i will be looking forward for today's submission, iqra\n",
      " keep up the good work, sadiya\n",
      "i will be looking forward for today's submission, sadiya\n"
     ]
    }
   ],
   "source": [
    "for x in students:\n",
    "    print(f\" keep up the good work, {x}\")\n",
    "    print(f\"i will be looking forward for today's submission, {x}\")"
   ]
  },
  {
   "cell_type": "code",
   "execution_count": 12,
   "id": "675c54cb",
   "metadata": {},
   "outputs": [
    {
     "name": "stdout",
     "output_type": "stream",
     "text": [
      " keep up the good work, sunil\n",
      "i will be looking forward for today's submission, sunil\n",
      "\n",
      " keep up the good work, naveen\n",
      "i will be looking forward for today's submission, naveen\n",
      "\n",
      " keep up the good work, abdul\n",
      "i will be looking forward for today's submission, abdul\n",
      "\n",
      " keep up the good work, snehal\n",
      "i will be looking forward for today's submission, snehal\n",
      "\n",
      " keep up the good work, iqra\n",
      "i will be looking forward for today's submission, iqra\n",
      "\n",
      " keep up the good work, sadiya\n",
      "i will be looking forward for today's submission, sadiya\n",
      "\n"
     ]
    }
   ],
   "source": [
    "for x in students:\n",
    "    print(f\" keep up the good work, {x}\")\n",
    "    print(f\"i will be looking forward for today's submission, {x}\\n\")"
   ]
  },
  {
   "cell_type": "code",
   "execution_count": 14,
   "id": "8e75f941",
   "metadata": {},
   "outputs": [
    {
     "name": "stdout",
     "output_type": "stream",
     "text": [
      " keep up the good work, Sunil\n",
      "i will be looking forward for today's submission, Sunil\n",
      "\n",
      " keep up the good work, Naveen\n",
      "i will be looking forward for today's submission, Naveen\n",
      "\n",
      " keep up the good work, Abdul\n",
      "i will be looking forward for today's submission, Abdul\n",
      "\n",
      " keep up the good work, Snehal\n",
      "i will be looking forward for today's submission, Snehal\n",
      "\n",
      " keep up the good work, Iqra\n",
      "i will be looking forward for today's submission, Iqra\n",
      "\n",
      " keep up the good work, Sadiya\n",
      "i will be looking forward for today's submission, Sadiya\n",
      "\n"
     ]
    }
   ],
   "source": [
    "for x in students:\n",
    "    print(f\" keep up the good work, {x.title()}\")\n",
    "    print(f\"i will be looking forward for today's submission, {x.title()}\\n\")"
   ]
  },
  {
   "cell_type": "code",
   "execution_count": null,
   "id": "ff6aaf6f",
   "metadata": {},
   "outputs": [],
   "source": []
  }
 ],
 "metadata": {
  "kernelspec": {
   "display_name": "Python 3 (ipykernel)",
   "language": "python",
   "name": "python3"
  },
  "language_info": {
   "codemirror_mode": {
    "name": "ipython",
    "version": 3
   },
   "file_extension": ".py",
   "mimetype": "text/x-python",
   "name": "python",
   "nbconvert_exporter": "python",
   "pygments_lexer": "ipython3",
   "version": "3.9.13"
  }
 },
 "nbformat": 4,
 "nbformat_minor": 5
}
